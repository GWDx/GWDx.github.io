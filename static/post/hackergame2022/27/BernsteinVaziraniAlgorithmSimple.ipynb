{
 "cells": [
  {
   "cell_type": "code",
   "execution_count": 21,
   "metadata": {},
   "outputs": [],
   "source": [
    "from qiskit import *"
   ]
  },
  {
   "cell_type": "code",
   "execution_count": 22,
   "metadata": {},
   "outputs": [],
   "source": [
    "%matplotlib inline\n",
    "from qiskit.tools.visualization import plot_histogram"
   ]
  },
  {
   "cell_type": "code",
   "execution_count": 23,
   "metadata": {},
   "outputs": [],
   "source": [
    "secretNumber = [ 0] * 129"
   ]
  },
  {
   "cell_type": "code",
   "execution_count": 24,
   "metadata": {},
   "outputs": [],
   "source": [
    "circuit = QuantumCircuit(129,128)"
   ]
  },
  {
   "cell_type": "code",
   "execution_count": 25,
   "metadata": {},
   "outputs": [
    {
     "data": {
      "text/plain": [
       "<qiskit.circuit.instructionset.InstructionSet at 0x7f8441c7dcc0>"
      ]
     },
     "execution_count": 25,
     "metadata": {},
     "output_type": "execute_result"
    }
   ],
   "source": [
    "circuit.h([i for i in range(128)])\n",
    "circuit.x(128)\n",
    "circuit.h(128)\n",
    "\n",
    "circuit.barrier()\n",
    "circuit.cx(0,128)\n",
    "\n",
    "# 6, 15, 16, 32, 35 - x\n",
    "# 45, 47 - x\n",
    "# 75, 93 - x\n",
    "# 119 - x\n",
    "for i in [6, 15, 16, 32, 35, 45, 47, 75, 93, 119]:\n",
    "    circuit.x(i)\n",
    "\n",
    "# 38 - z\n",
    "# 49, 68 - z\n",
    "# 107 - z\n",
    "for i in [38,49, 68, 107]:\n",
    "    circuit.z(i)\n",
    "\n",
    "circuit.cx(2,128)\n",
    "\n",
    "for i in [15, 32, 35, 47, 75, 119]:\n",
    "    circuit.x(i)\n",
    "for i in [16, 68, 107]:\n",
    "    circuit.z(i)\n",
    "\n",
    "circuit.cx(3,128)\n",
    "circuit.cx(4,128)\n",
    "circuit.cx(5,128)\n",
    "circuit.cx(6,128)\n",
    "circuit.x(6)\n",
    "\n",
    "circuit.cx(8,128)\n",
    "circuit.cx(9,128)\n",
    "circuit.cx(13,128)\n",
    "circuit.cx(14,128)\n",
    "circuit.cx(16,128)\n",
    "circuit.z(16)\n",
    "circuit.x(16)\n",
    "\n",
    "circuit.cx(17,128)\n",
    "circuit.cx(21,128)\n",
    "circuit.cx(22,128)\n",
    "circuit.cx(26,128)\n",
    "circuit.cx(29,128)\n",
    "circuit.cx(30,128)\n",
    "circuit.cx(34,128)\n",
    "circuit.cx(37,128)\n",
    "circuit.cx(38,128)\n",
    "circuit.z(38)\n",
    "\n",
    "circuit.cx(40,128)\n",
    "circuit.cx(45,128)\n",
    "circuit.x(45)\n",
    "\n",
    "circuit.cx(46,128)\n",
    "circuit.cx(48,128)\n",
    "circuit.cx(49,128)\n",
    "circuit.z(49)\n",
    "\n",
    "# 53,54,57,60,61\n",
    "circuit.cx(53,128)\n",
    "circuit.cx(54,128)\n",
    "circuit.cx(57,128)\n",
    "circuit.cx(60,128)\n",
    "circuit.cx(61,128)\n",
    "\n",
    "# 65,68,69,72,73\n",
    "circuit.cx(65,128)\n",
    "circuit.cx(68,128)\n",
    "circuit.cx(69,128)\n",
    "circuit.cx(72,128)\n",
    "circuit.cx(73,128)\n",
    "\n",
    "# 76,77,83,84,85\n",
    "circuit.cx(76,128)\n",
    "circuit.cx(77,128)\n",
    "circuit.cx(83,128)\n",
    "circuit.cx(84,128)\n",
    "circuit.cx(85,128)\n",
    "\n",
    "# 88,89,91,92,93\n",
    "circuit.cx(88,128)\n",
    "circuit.cx(89,128)\n",
    "circuit.cx(91,128)\n",
    "circuit.cx(92,128)\n",
    "circuit.cx(93,128)\n",
    "circuit.x(93)\n",
    "\n",
    "# 94,96,97,98,101\n",
    "circuit.cx(94,128)\n",
    "circuit.cx(96,128)\n",
    "circuit.cx(97,128)\n",
    "circuit.cx(98,128)\n",
    "circuit.cx(101,128)\n",
    "\n",
    "# 102,104,109,110,114\n",
    "circuit.cx(102,128)\n",
    "circuit.cx(104,128)\n",
    "circuit.cx(109,128)\n",
    "circuit.cx(110,128)\n",
    "circuit.cx(114,128)\n",
    "\n",
    "# 115,117,118,121,122,125,126\n",
    "circuit.cx(115,128)\n",
    "circuit.cx(117,128)\n",
    "circuit.cx(118,128)\n",
    "circuit.cx(121,128)\n",
    "circuit.cx(122,128)\n",
    "circuit.cx(125,128)\n",
    "circuit.cx(126,128)\n",
    "\n",
    "circuit.barrier()\n",
    "circuit.h([i for i in range(128)])\n",
    "circuit.measure([i for i in range(128)], [i for i in range(128)])\n"
   ]
  },
  {
   "cell_type": "code",
   "execution_count": 26,
   "metadata": {},
   "outputs": [
    {
     "name": "stdout",
     "output_type": "stream",
     "text": [
      "{'01100110011011000110000101100111011110110011100000110011001100100011001001100011011000010110010001100100011000110110001101111101': 1}\n"
     ]
    }
   ],
   "source": [
    "simulator = Aer.get_backend('qasm_simulator')\n",
    "result = execute(circuit, backend=simulator, shots=1).result()\n",
    "counts = result.get_counts()\n",
    "print(counts)"
   ]
  },
  {
   "cell_type": "code",
   "execution_count": 27,
   "metadata": {},
   "outputs": [
    {
     "name": "stdout",
     "output_type": "stream",
     "text": [
      "01100110011011000110000101100111011110110011100000110011001100100011001001100011011000010110010001100100011000110110001101111101\n",
      "b'flag{8322caddcc}'\n"
     ]
    }
   ],
   "source": [
    "a = counts.keys().__iter__().__next__()\n",
    "print(a)\n",
    "# print ascii\n",
    "import binascii\n",
    "print(binascii.unhexlify('%x' % int(a, 2)))"
   ]
  },
  {
   "cell_type": "code",
   "execution_count": 28,
   "metadata": {},
   "outputs": [],
   "source": [
    "circuit.draw(output='mpl',filename='result.png',scale=0.4);"
   ]
  }
 ],
 "metadata": {
  "kernelspec": {
   "display_name": "Python 3.10.7 64-bit",
   "language": "python",
   "name": "python3"
  },
  "language_info": {
   "codemirror_mode": {
    "name": "ipython",
    "version": 3
   },
   "file_extension": ".py",
   "mimetype": "text/x-python",
   "name": "python",
   "nbconvert_exporter": "python",
   "pygments_lexer": "ipython3",
   "version": "3.10.7"
  },
  "vscode": {
   "interpreter": {
    "hash": "767d51c1340bd893661ea55ea3124f6de3c7a262a8b4abca0554b478b1e2ff90"
   }
  }
 },
 "nbformat": 4,
 "nbformat_minor": 4
}
